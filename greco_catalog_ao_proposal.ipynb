{
 "cells": [
  {
   "cell_type": "markdown",
   "metadata": {},
   "source": [
    "This is a notebook to look at the catalog of sources from Johnny and find potential red field objects to get HI mass limits/detections for"
   ]
  },
  {
   "cell_type": "code",
   "execution_count": 1,
   "metadata": {
    "collapsed": true
   },
   "outputs": [],
   "source": [
    "%matplotlib inline\n",
    "import numpy as np\n",
    "import matplotlib.pyplot as plt\n",
    "from astropy.table import Table, Column\n",
    "from astropy.io import ascii"
   ]
  },
  {
   "cell_type": "code",
   "execution_count": 9,
   "metadata": {},
   "outputs": [
    {
     "name": "stdout",
     "output_type": "stream",
     "text": [
      "['cat-id', 'ra', 'dec', 'mu_0_i', 'm_tot_i', 'r_e', 'n', 'g-i', 'subsample']\n",
      "20\n"
     ]
    },
    {
     "name": "stderr",
     "output_type": "stream",
     "text": [
      "WARNING: AstropyDeprecationWarning: Config parameter 'name_resolve_timeout' in section [coordinates.name_resolve] of the file '/Users/adams/.astropy/config/astropy.cfg' is deprecated. Use 'remote_timeout' in section [utils.data] instead. [astropy.config.configuration]\n",
      "WARNING: AstropyDeprecationWarning: Config parameter 'remote_timeout' in section [utils.data] of the file '/Users/adams/.astropy/config/astropy.cfg' is given by more than one alias (astropy.utils.data.remote_timeout, coordinates.name_resolve.name_resolve_timeout). Using the first. [astropy.config.configuration]\n"
     ]
    }
   ],
   "source": [
    "file = '/Users/adams/python/udgs/arecibo-sample.csv'\n",
    "cat=ascii.read(file,format='csv')\n",
    "print(cat.colnames)\n",
    "print(len(cat))"
   ]
  },
  {
   "cell_type": "code",
   "execution_count": 12,
   "metadata": {},
   "outputs": [],
   "source": [
    "#Use 100 Mpc as the fiducial distance\n",
    "Mi = cat['m_tot_i'] - 5*np.log10(100.e6) + 5\n",
    "Li = 10**((Mi - 4.3)/(-2.5))\n",
    "#print(Li)\n",
    "\n",
    "#convert to stellar mass\n",
    "#Use Roediger & Corteau 2015\n",
    "#i, g-i, FSPS\n",
    "#log (M/L)λ = mλ ×(colour)+bλ\n",
    "mi = 0.831 \n",
    "bi = -0.597\n",
    "\n",
    "ml_ratio = 10**( mi*cat['g-i'] +bi)\n",
    "\n",
    "#now get the stellar masses:\n",
    "mstar = ml_ratio * Li\n",
    "\n",
    "#print(mstar)\n"
   ]
  },
  {
   "cell_type": "code",
   "execution_count": 30,
   "metadata": {},
   "outputs": [
    {
     "name": "stdout",
     "output_type": "stream",
     "text": [
      "Mstar    MHI         Flux  tint     t_tot  #time in minutes\n",
      "4.81E+08  4.81E+08  0.204    7.2    14.4\n",
      "1.43E+08  1.43E+08  0.061   81.3   162.7\n",
      "1.95E+08  1.95E+08  0.082   44.1    88.3\n",
      "7.95E+07  7.95E+07  0.034  264.4   528.9\n",
      "2.24E+08  2.24E+08  0.095   33.4    66.8\n",
      "3.00E+07  3.00E+07  0.013 1855.1  3710.1\n",
      "4.92E+07  4.92E+07  0.021  692.0  1383.9\n",
      "3.38E+08  3.38E+08  0.143   14.6    29.3\n",
      "1.81E+08  1.81E+08  0.077   51.2   102.3\n",
      "2.24E+07  2.24E+07  0.010 3317.4  6634.8\n",
      "3.22E+07  3.22E+07  0.014 1612.5  3225.0\n",
      "5.58E+07  5.58E+07  0.024  536.8  1073.5\n",
      "9.19E+07  9.19E+07  0.039  198.1   396.2\n",
      "5.84E+07  5.84E+07  0.025  490.7   981.3\n",
      "1.01E+08  1.01E+08  0.043  163.7   327.4\n",
      "6.02E+07  6.02E+07  0.026  460.8   921.5\n",
      "1.49E+08  1.49E+08  0.063   75.6   151.1\n",
      "6.48E+07  6.48E+07  0.027  398.1   796.3\n",
      "1.08E+08  1.08E+08  0.046  143.3   286.6\n",
      "2.49E+07  2.49E+07  0.011 2701.9  5403.7\n"
     ]
    }
   ],
   "source": [
    "#now get the HI masses I want to detect - set to be 0.1 Mstar\n",
    "mhi = mstar\n",
    "\n",
    "#and calculate integration time needed\n",
    "#fiducial distance of 100 Mpc\n",
    "fluxhi = mhi / (2.36e5 * 100.**2)\n",
    "\n",
    "chanflux = fluxhi/50. #50 km/s width, flux level if evenly distributed over that 50 km/s\n",
    "\n",
    "chanrms = chanflux/5.  #5sigma in each chan\n",
    "\n",
    "gain = 8. #K/Jy\n",
    "tsys = 30. #K\n",
    "sefd = tsys/gain #Jy\n",
    "\n",
    "chansize = 48.8e3 #Hz, 2048 chans over 25 MHz -> chanx4 for the ~10 km/s chan\n",
    "\n",
    "tint = sefd**2 / (chansize * chanrms**2)\n",
    "\n",
    "ttot = 2*tint\n",
    "\n",
    "#print integration and total on source in minutes\n",
    "print('Mstar    MHI         Flux  tint     t_tot  #time in minutes')\n",
    "for i in range(len(tint)):\n",
    "    print('{0:.2E}  {1:.2E} {4:6.3f} {2:6.1f}  {3:6.1f}'.format(mstar[i], mhi[i], tint[i]/60., ttot[i]/60.,fluxhi[i]))\n"
   ]
  },
  {
   "cell_type": "code",
   "execution_count": 40,
   "metadata": {},
   "outputs": [
    {
     "name": "stdout",
     "output_type": "stream",
     "text": [
      "Mstar    MHI        MHI/Mstar  subsample\n",
      "4.81E+08  2.36E+08  0.49  galex\n",
      "1.43E+08  2.36E+08   1.6  galex\n",
      "1.95E+08  2.36E+08   1.2  galex\n",
      "7.95E+07  2.36E+08   3.0  galex\n",
      "2.24E+08  2.36E+08   1.1  galex\n",
      "3.00E+07  2.36E+08   7.9  galex\n",
      "4.92E+07  2.36E+08   4.8  isolated\n",
      "3.38E+08  2.36E+08   0.7  isolated\n",
      "1.81E+08  2.36E+08   1.3  isolated\n",
      "2.24E+07  2.36E+08 1.1e+01  isolated\n",
      "3.22E+07  2.36E+08   7.3  isolated\n",
      "5.58E+07  2.36E+08   4.2  isolated\n",
      "9.19E+07  2.36E+08   2.6  hst\n",
      "5.84E+07  2.36E+08   4.0  hst\n",
      "1.01E+08  2.36E+08   2.3  hst\n",
      "6.02E+07  2.36E+08   3.9  hst\n",
      "1.49E+08  2.36E+08   1.6  hst\n",
      "6.48E+07  2.36E+08   3.6  hst\n",
      "1.08E+08  2.36E+08   2.2  hst\n",
      "2.49E+07  2.36E+08   9.5  hst\n"
     ]
    }
   ],
   "source": [
    "#okay - things aren't going well. \n",
    "#What if I go the other way, and ask what I can do in an hour per source?\n",
    "tint_set = 30*60. #on source time in seconds, assuming equal amount of time off-source\n",
    "\n",
    "chanrms = sefd / np.sqrt(tint_set*chansize)\n",
    "\n",
    "flux = chanrms*5.*50  #assume 5sigma, 50 km/s width\n",
    "\n",
    "#then calculate HI mass and mhi/mstar\n",
    "mhi_all = 2.36e5*100**2*flux  #assume 100 mpc\n",
    "\n",
    "mhi_to_mstar = mhi_all / mstar\n",
    "\n",
    "print('Mstar    MHI        MHI/Mstar  subsample')\n",
    "for i in range(len(mstar)):\n",
    "    print('{0:.2E}  {1:.2E} {2:5.2}  {3}'.format(mstar[i], mhi_all, mhi_all/mstar[i], cat['subsample'][i]))\n"
   ]
  },
  {
   "cell_type": "code",
   "execution_count": null,
   "metadata": {
    "collapsed": true
   },
   "outputs": [],
   "source": []
  },
  {
   "cell_type": "code",
   "execution_count": 2,
   "metadata": {},
   "outputs": [
    {
     "name": "stdout",
     "output_type": "stream",
     "text": [
      "['id', 'ra', 'dec', 'mu_0', 'mu_0_err', 'm_i', 'm_i_err', 'g-r', 'g-i', 'r_e', 'r_e_err', 'n', 'n_err', 'ell', 'ell_err', 'A_g', 'A_r', 'A_i']\n",
      "781\n",
      "2.58 13.86\n"
     ]
    },
    {
     "name": "stderr",
     "output_type": "stream",
     "text": [
      "WARNING: AstropyDeprecationWarning: Config parameter 'name_resolve_timeout' in section [coordinates.name_resolve] of the file '/Users/adams/.astropy/config/astropy.cfg' is deprecated. Use 'remote_timeout' in section [utils.data] instead. [astropy.config.configuration]\n",
      "WARNING: AstropyDeprecationWarning: Config parameter 'remote_timeout' in section [utils.data] of the file '/Users/adams/.astropy/config/astropy.cfg' is given by more than one alias (astropy.utils.data.remote_timeout, coordinates.name_resolve.name_resolve_timeout). Using the first. [astropy.config.configuration]\n"
     ]
    }
   ],
   "source": [
    "#Read the catalog\n",
    "file = '/Users/adams/Downloads/tab-1-lsbg.csv'\n",
    "cat=ascii.read(file,format='csv')\n",
    "\n",
    "print(cat.colnames)\n",
    "print(len(cat))\n",
    "print(min(cat['r_e']),max(cat['r_e']))\n",
    "\n",
    "redind = np.where(cat['g-i'] >= 0.64)\n",
    "redcat = cat[redind]"
   ]
  },
  {
   "cell_type": "code",
   "execution_count": 7,
   "metadata": {},
   "outputs": [
    {
     "name": "stdout",
     "output_type": "stream",
     "text": [
      "17.55\n",
      "22.48\n",
      "20.2194888889\n"
     ]
    }
   ],
   "source": [
    "print(min(redcat['m_i']))\n",
    "print(max(redcat['m_i']))\n",
    "print(np.mean(redcat['m_i']))"
   ]
  },
  {
   "cell_type": "code",
   "execution_count": 4,
   "metadata": {},
   "outputs": [
    {
     "name": "stdout",
     "output_type": "stream",
     "text": [
      "89.2922077922 479.686046512\n",
      "6\n",
      " id     ra      dec     mu_0 mu_0_err  m_i  ... ell  ell_err  A_g   A_r   A_i \n",
      "--- --------- -------- ----- -------- ----- ... ---- ------- ----- ----- -----\n",
      " 18 243.88821 42.92376 24.13      0.4 19.09 ... 0.68    0.03  0.04 0.028  0.02\n",
      "122  337.7865  1.16509 25.26      0.4 19.86 ...  0.2    0.04 0.234 0.166 0.118\n",
      "363  29.59924 -5.63899 25.24      0.4 18.87 ... 0.31    0.03 0.071 0.051 0.036\n",
      "425 224.90973  1.48513 25.67      0.4 19.52 ... 0.42    0.04 0.137 0.097 0.069\n",
      "654 132.81382  0.25798 25.41      0.4 19.07 ... 0.49    0.03 0.099 0.071  0.05\n",
      "680 222.31267  -0.7021  25.5      0.4  19.0 ... 0.63    0.03 0.132 0.094 0.067\n",
      "g-r \n",
      "----\n",
      "0.45\n",
      "0.63\n",
      "0.53\n",
      "0.46\n",
      "0.74\n",
      "0.67 g-i \n",
      "----\n",
      "0.66\n",
      " 1.0\n",
      "0.86\n",
      "0.99\n",
      "1.04\n",
      "0.97\n",
      " m_i \n",
      "-----\n",
      "19.09\n",
      "19.86\n",
      "18.87\n",
      "19.52\n",
      "19.07\n",
      " 19.0\n"
     ]
    },
    {
     "name": "stderr",
     "output_type": "stream",
     "text": [
      "WARNING: AstropyDeprecationWarning: Config parameter 'max_lines' in section [table.pprint] of the file '/Users/adams/.astropy/config/astropy.cfg' is deprecated. Use 'max_lines' at the top-level instead. [astropy.config.configuration]\n",
      "WARNING: AstropyDeprecationWarning: Config parameter 'max_width' in section [table.pprint] of the file '/Users/adams/.astropy/config/astropy.cfg' is deprecated. Use 'max_width' at the top-level instead. [astropy.config.configuration]\n"
     ]
    }
   ],
   "source": [
    "#These sources have no distance, but I want to be clever about getting distance limits\n",
    "#If I assume a maximum physical size, I can put a maximum distance to everything\n",
    "#Say rmax = 6 kpc\n",
    "\n",
    "distmax = 6e-3/(cat['r_e']/206265.)\n",
    "dmaxred = 6e-3/(redcat['r_e']/206265.)\n",
    "\n",
    "print(min(distmax),max(distmax))\n",
    "\n",
    "ind = np.where(dmaxred <= 120.)[0]\n",
    "print(len(ind))\n",
    "\n",
    "print(redcat[ind])\n",
    "print(redcat['g-r'][ind],redcat['g-i'][ind])\n",
    "\n",
    "print(redcat['m_i'][ind])"
   ]
  },
  {
   "cell_type": "markdown",
   "metadata": {},
   "source": [
    "There are 6 sources that you would argue must be w/in 100 Mpc, assuming that these sources are instrinsically less than 6 kpc in size, and two are quite red"
   ]
  },
  {
   "cell_type": "code",
   "execution_count": 17,
   "metadata": {},
   "outputs": [
    {
     "name": "stdout",
     "output_type": "stream",
     "text": [
      "     r_e     \n",
      "-------------\n",
      "15.7694954128\n",
      "16.4616919393\n",
      " 14.882034632\n",
      "15.3356877323\n",
      "16.1776470588\n",
      "15.2112831858\n",
      "I must search to 5.729583333333333 degrees at 15.0 Mpc\n",
      "I must search to 0.8594375 degrees at 100.0 Mpc\n"
     ]
    },
    {
     "name": "stderr",
     "output_type": "stream",
     "text": [
      "WARNING: AstropyDeprecationWarning: Config parameter 'max_lines' in section [table.pprint] of the file '/Users/adams/.astropy/config/astropy.cfg' is deprecated. Use 'max_lines' at the top-level instead. [astropy.config.configuration]\n"
     ]
    }
   ],
   "source": [
    "#what about a minimum size?\n",
    "#Can I say galaxies are at least 1 kpc in size?\n",
    "#Then what distance are they at?\n",
    "\n",
    "distmin = 1e-3/(cat['r_e']/206265.)\n",
    "\n",
    "print(distmin[ind])\n",
    "\n",
    "#if my minimum distance is ~15 Mpc, what angular scale is 1.5 Mpc for searching?\n",
    "print('I must search to {0} degrees at {1} Mpc'.format(1.5/15*206265/3600., 15.))\n",
    "print('I must search to {0} degrees at {1} Mpc'.format(1.5/100*206265/3600., 100.))"
   ]
  },
  {
   "cell_type": "markdown",
   "metadata": {},
   "source": [
    "The two red, large sources have a minimum distance of ~15 Mpc.\n",
    "\n",
    "#425 doesn't appear isolated, but #680 may be"
   ]
  },
  {
   "cell_type": "code",
   "execution_count": null,
   "metadata": {
    "collapsed": true
   },
   "outputs": [],
   "source": []
  }
 ],
 "metadata": {
  "kernelspec": {
   "display_name": "Python 3",
   "language": "python",
   "name": "python3"
  },
  "language_info": {
   "codemirror_mode": {
    "name": "ipython",
    "version": 3
   },
   "file_extension": ".py",
   "mimetype": "text/x-python",
   "name": "python",
   "nbconvert_exporter": "python",
   "pygments_lexer": "ipython3",
   "version": "3.5.3"
  }
 },
 "nbformat": 4,
 "nbformat_minor": 1
}
